{
 "cells": [
  {
   "cell_type": "markdown",
   "metadata": {
    "id": "4jAsKEJKEg0R"
   },
   "source": [
    "# Libraries"
   ]
  },
  {
   "cell_type": "code",
   "execution_count": 4,
   "metadata": {},
   "outputs": [
    {
     "name": "stdout",
     "output_type": "stream",
     "text": [
      "Collecting textblob\n",
      "  Downloading textblob-0.18.0.post0-py3-none-any.whl.metadata (4.5 kB)\n",
      "Requirement already satisfied: nltk>=3.8 in /opt/anaconda3/lib/python3.12/site-packages (from textblob) (3.9.1)\n",
      "Requirement already satisfied: click in /opt/anaconda3/lib/python3.12/site-packages (from nltk>=3.8->textblob) (8.1.7)\n",
      "Requirement already satisfied: joblib in /opt/anaconda3/lib/python3.12/site-packages (from nltk>=3.8->textblob) (1.4.2)\n",
      "Requirement already satisfied: regex>=2021.8.3 in /opt/anaconda3/lib/python3.12/site-packages (from nltk>=3.8->textblob) (2024.9.11)\n",
      "Requirement already satisfied: tqdm in /opt/anaconda3/lib/python3.12/site-packages (from nltk>=3.8->textblob) (4.66.5)\n",
      "Downloading textblob-0.18.0.post0-py3-none-any.whl (626 kB)\n",
      "\u001b[2K   \u001b[90m━━━━━━━━━━━━━━━━━━━━━━━━━━━━━━━━━━━━━━━━\u001b[0m \u001b[32m626.3/626.3 kB\u001b[0m \u001b[31m11.6 MB/s\u001b[0m eta \u001b[36m0:00:00\u001b[0m\n",
      "\u001b[?25hInstalling collected packages: textblob\n",
      "Successfully installed textblob-0.18.0.post0\n"
     ]
    }
   ],
   "source": [
    "!pip install textblob"
   ]
  },
  {
   "cell_type": "code",
   "execution_count": 3,
   "metadata": {
    "id": "-3AICKt5Eg0S"
   },
   "outputs": [],
   "source": [
    "import pandas as pd\n",
    "import seaborn as sns\n",
    "import matplotlib.pyplot as plt\n",
    "from sklearn.model_selection import train_test_split\n",
    "from sklearn.metrics import accuracy_score, confusion_matrix\n",
    "from sklearn.feature_extraction.text import TfidfVectorizer\n",
    "import xgboost as xgb\n",
    "from scipy.sparse import hstack\n",
    "from textblob import TextBlob\n",
    "from os.path import exists"
   ]
  },
  {
   "cell_type": "markdown",
   "metadata": {
    "id": "zI_F4UA4Eg0T"
   },
   "source": [
    "# Loading the Files\n",
    "\n",
    "Download the csv files into the `data/` directory."
   ]
  },
  {
   "cell_type": "code",
   "execution_count": 5,
   "metadata": {
    "colab": {
     "base_uri": "https://localhost:8080/",
     "height": 543
    },
    "id": "EfxZ5c53Eg0U",
    "outputId": "afc04db3-d9e2-45f8-96bd-52fc30831525"
   },
   "outputs": [
    {
     "name": "stdout",
     "output_type": "stream",
     "text": [
      "train.csv shape is  (1697533, 9)\n",
      "test.csv shape is  (212192, 2)\n",
      "        Id   ProductId          UserId  HelpfulnessNumerator  \\\n",
      "0   914403  B0009W5KHM   AV6QDP8Q0ONK4                     2   \n",
      "1   354887  6303079709  A2I8RXJN80A2D2                     0   \n",
      "2  1407653  B004H0M2XC  A3FHV3RV8Z12E6                     0   \n",
      "\n",
      "   HelpfulnessDenominator        Time                             Summary  \\\n",
      "0                       2  1341014400                       GOOD FUN FILM   \n",
      "1                       0  1168819200                        Movie Review   \n",
      "2                       0  1386201600  When is it a good time to Consent?   \n",
      "\n",
      "                                                Text  Score  \n",
      "0  While most straight to DVD films are not worth...    5.0  \n",
      "1  I have wanted this one for sometime, also.  I ...    5.0  \n",
      "2  Actually this was a pretty darn good indie fil...    4.0  \n",
      "\n",
      "EVERYTHING IS PROPERLY SET UP! YOU ARE READY TO START\n"
     ]
    }
   ],
   "source": [
    "trainingSet = pd.read_csv(\"./data/train.csv\")\n",
    "testingSet = pd.read_csv(\"./data/test.csv\")\n",
    "\n",
    "print(\"train.csv shape is \", trainingSet.shape)\n",
    "print(\"test.csv shape is \", testingSet.shape)\n",
    "\n",
    "print(trainingSet.head(3))\n",
    "\n",
    "\n",
    "print()\n",
    "print(\"EVERYTHING IS PROPERLY SET UP! YOU ARE READY TO START\")"
   ]
  },
  {
   "cell_type": "markdown",
   "metadata": {
    "id": "xDC-7yQZEg0U"
   },
   "source": [
    "# Feature"
   ]
  },
  {
   "cell_type": "code",
   "execution_count": 21,
   "metadata": {
    "id": "-OV4yjoYEg0V"
   },
   "outputs": [],
   "source": [
    "def add_features_to(df):\n",
    "    # Feature 1: Helpfulness ratio\n",
    "    df['Helpfulness'] = df['HelpfulnessNumerator'] / (df['HelpfulnessDenominator'] + 1)\n",
    "    df['Helpfulness'] = df['Helpfulness'].fillna(0)\n",
    "\n",
    "    # Feature 2: Length of the review text (in words and characters)\n",
    "    df['ReviewLengthWords'] = df['Text'].apply(lambda x: len(str(x).split()))\n",
    "    df['ReviewLengthChars'] = df['Text'].apply(lambda x: len(str(x)))\n",
    "\n",
    "    # Feature 3: Length of the summary text (in words and characters)\n",
    "    df['SummaryLengthWords'] = df['Summary'].apply(lambda x: len(str(x).split()))\n",
    "    df['SummaryLengthChars'] = df['Summary'].apply(lambda x: len(str(x)))\n",
    "\n",
    "    # Feature 4: Time-based features from the timestamp (extract year and month)\n",
    "    df['ReviewYear'] = pd.to_datetime(df['Time'], unit='s').dt.year\n",
    "    df['ReviewMonth'] = pd.to_datetime(df['Time'], unit='s').dt.month\n",
    "\n",
    "    # Feature 5: Sentiment score of the review text\n",
    "    df['SentimentScore'] = df['Text'].apply(lambda x: TextBlob(str(x)).sentiment.polarity)\n",
    "\n",
    "    # Feature 6: Lexical richness (unique words / total words)\n",
    "    df['LexicalRichness'] = df['Text'].apply(lambda x: len(set(str(x).split())) / len(str(x).split()) if len(str(x).split()) > 0 else 0)\n",
    "\n",
    "    # Feature 7: Exclamation mark count in the review text\n",
    "    df['ExclamationCount'] = df['Text'].apply(lambda x: str(x).count('!'))\n",
    "\n",
    "    # Fill missing values (if any) in new features\n",
    "    df = df.fillna(0)\n",
    "\n",
    "    return df\n",
    "\n",
    "# 加载已经提取的特征文件（如果存在）\n",
    "if exists('X_train.csv'):\n",
    "    X_train = pd.read_csv(\"X_train.csv\")\n",
    "if exists('X_submission.csv'):\n",
    "    X_submission = pd.read_csv(\"X_submission.csv\")\n",
    "\n",
    "else:\n",
    "    # 对训练集添加特征\n",
    "    train = add_features_to(trainingSet)\n",
    "\n",
    "    # 合并测试集以便应用相同的特征工程\n",
    "    X_submission = pd.merge(train, testingSet, on='Id', how='left')\n",
    "\n",
    "    # 处理重复的 'Score' 列并重命名\n",
    "    X_submission = X_submission.drop(columns=['Score_x'])\n",
    "    X_submission = X_submission.rename(columns={'Score_y': 'Score'})\n",
    "\n",
    "    # 创建训练集，仅包含评分不为空的行\n",
    "    X_train = train[train['Score'].notnull()]\n",
    "\n",
    "    # 保存处理后的文件以备将来使用\n",
    "    X_submission.to_csv(\"X_submission.csv\", index=False)\n",
    "    X_train.to_csv(\"X_train.csv\", index=False)"
   ]
  },
  {
   "cell_type": "markdown",
   "metadata": {
    "id": "IfT_cEBgEg0V"
   },
   "source": [
    "# Model\n"
   ]
  },
  {
   "cell_type": "code",
   "execution_count": 24,
   "metadata": {},
   "outputs": [
    {
     "name": "stdout",
     "output_type": "stream",
     "text": [
      "Requirement already satisfied: xgboost in /opt/anaconda3/lib/python3.12/site-packages (2.1.1)\n",
      "Collecting xgboost\n",
      "  Downloading xgboost-2.1.2-py3-none-macosx_12_0_arm64.whl.metadata (2.1 kB)\n",
      "Requirement already satisfied: numpy in /opt/anaconda3/lib/python3.12/site-packages (from xgboost) (1.26.4)\n",
      "Requirement already satisfied: scipy in /opt/anaconda3/lib/python3.12/site-packages (from xgboost) (1.13.1)\n",
      "Downloading xgboost-2.1.2-py3-none-macosx_12_0_arm64.whl (1.9 MB)\n",
      "\u001b[2K   \u001b[90m━━━━━━━━━━━━━━━━━━━━━━━━━━━━━━━━━━━━━━━━\u001b[0m \u001b[32m1.9/1.9 MB\u001b[0m \u001b[31m8.5 MB/s\u001b[0m eta \u001b[36m0:00:00\u001b[0ma \u001b[36m0:00:01\u001b[0m\n",
      "\u001b[?25hInstalling collected packages: xgboost\n",
      "  Attempting uninstall: xgboost\n",
      "    Found existing installation: xgboost 2.1.1\n",
      "    Uninstalling xgboost-2.1.1:\n",
      "      Successfully uninstalled xgboost-2.1.1\n",
      "Successfully installed xgboost-2.1.2\n"
     ]
    }
   ],
   "source": [
    "!pip install --upgrade xgboost"
   ]
  },
  {
   "cell_type": "code",
   "execution_count": 23,
   "metadata": {
    "colab": {
     "base_uri": "https://localhost:8080/"
    },
    "id": "2jfllXgyEg0V",
    "outputId": "8cdef5ec-12f1-4193-bd55-e3a194fffbe1"
   },
   "outputs": [
    {
     "name": "stdout",
     "output_type": "stream",
     "text": [
      "XGBoost Accuracy on Sampled Data: 0.5723542752790787\n"
     ]
    }
   ],
   "source": [
    "# Step 1: Sample the data\n",
    "sampled_df = trainingSet.sample(frac=0.2, random_state=42)\n",
    "\n",
    "# 确保 'Text' 和 'Summary' 列都是字符串格式\n",
    "sampled_df['Text'] = sampled_df['Text'].astype(str)\n",
    "sampled_df['Summary'] = sampled_df['Summary'].astype(str)\n",
    "\n",
    "# Step 2: 应用特征工程\n",
    "sampled_df = add_features_to(sampled_df)\n",
    "\n",
    "# 使用 TF-IDF 对 'Text' 和 'Summary' 列进行向量化\n",
    "tfidf_text = TfidfVectorizer(max_features=8000)\n",
    "train_text_tfidf = tfidf_text.fit_transform(sampled_df['Text'].fillna(''))\n",
    "\n",
    "tfidf_summary = TfidfVectorizer(max_features=3000)\n",
    "train_summary_tfidf = tfidf_summary.fit_transform(sampled_df['Summary'].fillna(''))\n",
    "\n",
    "# 组合数值特征\n",
    "numeric_features = sampled_df[['Helpfulness', 'ReviewLengthWords', 'ReviewLengthChars',\n",
    "                               'SummaryLengthWords', 'SummaryLengthChars',\n",
    "                               'ReviewYear', 'ReviewMonth', 'SentimentScore',\n",
    "                               'LexicalRichness', 'ExclamationCount']].fillna(0)\n",
    "\n",
    "# 将 TF-IDF 特征与数值特征组合\n",
    "X = hstack([train_text_tfidf, train_summary_tfidf, numeric_features.values])\n",
    "y = sampled_df['Score'].fillna(0)\n",
    "\n",
    "# Step 3: 将数据划分为训练集和验证集\n",
    "X_train, X_val, y_train, y_val = train_test_split(X, y, test_size=0.2, random_state=42)\n",
    "\n",
    "# Step 4: 训练 XGBoost 模型\n",
    "xgb_model = xgb.XGBClassifier(\n",
    "    n_estimators=500,  # 减少估计器数量以加快训练\n",
    "    learning_rate=0.1,\n",
    "    max_depth=6,\n",
    "    min_child_weight=3,\n",
    "    gamma=0.1,\n",
    "    subsample=0.8,\n",
    "    colsample_bytree=0.8,\n",
    "    random_state=42\n",
    ")\n",
    "\n",
    "# 无早停机制，直接训练\n",
    "xgb_model.fit(X_train, y_train)\n",
    "\n",
    "# Step 5: 评估模型\n",
    "y_pred = xgb_model.predict(X_val)\n",
    "accuracy = accuracy_score(y_val, y_pred)\n",
    "print(f'XGBoost Accuracy on Sampled Data: {accuracy}')"
   ]
  },
  {
   "cell_type": "markdown",
   "metadata": {
    "id": "1qqpTz0gEg0W"
   },
   "source": [
    "# Model Evaluation"
   ]
  },
  {
   "cell_type": "code",
   "execution_count": 25,
   "metadata": {
    "colab": {
     "base_uri": "https://localhost:8080/",
     "height": 216
    },
    "id": "wQ8RuuGVEg0W",
    "outputId": "025af0f7-cca5-4c7a-f49c-7fc974e50bd3"
   },
   "outputs": [
    {
     "name": "stdout",
     "output_type": "stream",
     "text": [
      "Accuracy on testing set = 0.5723542752790787\n"
     ]
    },
    {
     "data": {
      "image/png": "[encoded data removed]",
      "text/plain": [
       "<Figure size 640x480 with 2 Axes>"
      ]
     },
     "metadata": {},
     "output_type": "display_data"
    }
   ],
   "source": [
    "# Print accuracy score\n",
    "print(f'Accuracy on testing set = {accuracy_score(y_val, y_pred)}')\n",
    "\n",
    "# Plot confusion matrix\n",
    "cm = confusion_matrix(y_val, y_pred, normalize='true')\n",
    "sns.heatmap(cm, annot=True)\n",
    "plt.title('Confusion matrix of the XGBoost classifier')\n",
    "plt.xlabel('Predicted')\n",
    "plt.ylabel('True')\n",
    "plt.show()\n"
   ]
  },
  {
   "cell_type": "markdown",
   "metadata": {
    "id": "dntKelj9Eg0W"
   },
   "source": [
    "# File make"
   ]
  },
  {
   "cell_type": "code",
   "execution_count": 68,
   "metadata": {
    "colab": {
     "base_uri": "https://localhost:8080/",
     "height": 216
    },
    "id": "GtUKsF2qEg0W",
    "outputId": "5f4342c4-0d28-4ace-fe76-e08a5a03ebbb"
   },
   "outputs": [
    {
     "name": "stdout",
     "output_type": "stream",
     "text": [
      "Submission file created: ./data/submission.csv\n"
     ]
    }
   ],
   "source": [
    "# Prepare Submission File\n",
    "submission_text_tfidf = tfidf_text.transform(X_submission['Text'].fillna(''))\n",
    "submission_summary_tfidf = tfidf_summary.transform(X_submission['Summary'].fillna(''))\n",
    "\n",
    "submission_numeric_features = X_submission[['Helpfulness', 'ReviewLengthWords', 'ReviewLengthChars',\n",
    "                                            'SummaryLengthWords', 'SummaryLengthChars',\n",
    "                                            'ReviewYear', 'ReviewMonth', 'SentimentScore',\n",
    "                                            'LexicalRichness', 'ExclamationCount']].fillna(0)\n",
    "\n",
    "X_submission_select = hstack([submission_text_tfidf, submission_summary_tfidf, submission_numeric_features.values])\n",
    "\n",
    "X_submission['Score'] = xgb_model.predict(X_submission_select).round().astype(int)\n",
    "X_submission['Score'] = X_submission['Score'].clip(1, 5)\n",
    "\n",
    "submission = X_submission[['Id', 'Score']]\n",
    "submission.to_csv(\"./data/submission.csv\", index=False)\n",
    "\n",
    "print(\"Submission file created: ./data/submission.csv\")"
   ]
  },
  {
   "cell_type": "code",
   "execution_count": null,
   "metadata": {},
   "outputs": [],
   "source": []
  }
 ],
 "metadata": {
  "colab": {
   "provenance": []
  },
  "kernelspec": {
   "display_name": "Python 3 (ipykernel)",
   "language": "python",
   "name": "python3"
  },
  "language_info": {
   "codemirror_mode": {
    "name": "ipython",
    "version": 3
   },
   "file_extension": ".py",
   "mimetype": "text/x-python",
   "name": "python",
   "nbconvert_exporter": "python",
   "pygments_lexer": "ipython3",
   "version": "3.12.2"
  }
 },
 "nbformat": 4,
 "nbformat_minor": 4
}
